{
 "cells": [
  {
   "cell_type": "code",
   "execution_count": 7,
   "metadata": {},
   "outputs": [],
   "source": [
    "%gui wx\n",
    "# %gui qt4|qt  # enable PyQt4 event loop integration\n",
    "# %gui qt5     # enable PyQt5 event loop integration\n",
    "# %gui gtk     # enable PyGTK event loop integration\n",
    "# %gui gtk3    # enable Gtk3 event loop integration\n",
    "# %gui tk      # enable Tk event loop integration\n",
    "# %gui osx     # enable Cocoa event loop integration\n",
    "from tkinter import *\n",
    "\n",
    "class Window(Frame):\n",
    "\n",
    "    # Define settings upon initialization. Here you can specify\n",
    "    def __init__(self, master=None):\n",
    "        \n",
    "        # parameters that you want to send through the Frame class. \n",
    "        Frame.__init__(self, master)   \n",
    "\n",
    "        #reference to the master widget, which is the tk window                 \n",
    "        self.master = master\n",
    "\n",
    "        #with that, we want to then run init_window, which doesn't yet exist\n",
    "        self.init_window()\n",
    "\n",
    "    #Creation of init_window\n",
    "    def init_window(self):\n",
    "\n",
    "        # changing the title of our master widget      \n",
    "        self.master.title(\"GUI\")\n",
    "\n",
    "        # allowing the widget to take the full space of the root window\n",
    "        self.pack(fill=BOTH, expand=1)\n",
    "        \n",
    "        label = Label(self)\n",
    "        label.place(x=35, y=15)\n",
    "\n",
    "        # creating a button instance\n",
    "        quitButton = Button(self, text=\"Exit\",command=root.destroy)\n",
    "        \n",
    "        abortButton = Button(self, text=\"Abort\")\n",
    "\n",
    "        # placing the button on my window\n",
    "        quitButton.place(x=150, y=200)\n",
    "        abortButton.place(x=250, y=200)\n",
    "        \n",
    "    def countdown(count = 5):\n",
    "        # change text in label        \n",
    "        label['text'] = count\n",
    "\n",
    "        if count > 0:\n",
    "            # call countdown again after 1000ms (1s)\n",
    "            root.after(1000, countdown, count-1)\n",
    "       \n",
    "\n",
    "    def client_exit(self):\n",
    "        exit()\n"
   ]
  },
  {
   "cell_type": "code",
   "execution_count": 8,
   "metadata": {},
   "outputs": [],
   "source": [
    "# root window created. Here, that would be the only window, but\n",
    "# you can later have windows within windows.\n",
    "root = Tk()\n",
    "\n",
    "root.geometry(\"400x300\")\n",
    "\n",
    "#creation of an instance\n",
    "app = Window(root)\n",
    "\n",
    "#mainloop \n",
    "# app.TKroot.attributes('-topmost', True)\n",
    "root.lift()\n",
    "root.mainloop()  "
   ]
  },
  {
   "cell_type": "code",
   "execution_count": null,
   "metadata": {},
   "outputs": [],
   "source": []
  },
  {
   "cell_type": "code",
   "execution_count": null,
   "metadata": {},
   "outputs": [],
   "source": []
  }
 ],
 "metadata": {
  "kernelspec": {
   "display_name": "Python 3",
   "language": "python",
   "name": "python3"
  },
  "language_info": {
   "codemirror_mode": {
    "name": "ipython",
    "version": 3
   },
   "file_extension": ".py",
   "mimetype": "text/x-python",
   "name": "python",
   "nbconvert_exporter": "python",
   "pygments_lexer": "ipython3",
   "version": "3.7.3"
  }
 },
 "nbformat": 4,
 "nbformat_minor": 4
}
